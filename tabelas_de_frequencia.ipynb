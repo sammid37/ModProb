{
 "cells": [
  {
   "cell_type": "code",
   "execution_count": 8,
   "id": "c9aad67b",
   "metadata": {},
   "outputs": [],
   "source": [
    "import math\n",
    "import pandas as pd\n",
    "\n",
    "# import numpy as np\n",
    "# import matplotlib.pyplot as plt\n",
    "# import statistics"
   ]
  },
  {
   "cell_type": "code",
   "execution_count": 9,
   "id": "c5ae85f7",
   "metadata": {},
   "outputs": [
    {
     "name": "stdout",
     "output_type": "stream",
     "text": [
      "Informe os elementos: 2,2,2,2,2,2,2,2,2,2,2,2,2,3,3,3,3,3,3,3,3,3,3,3,3,3,3,3,3,3,3,3,3,3,3,3,3,3,3,3,3,3,4,4,4,4,4,4,4,4,4,4,4,4,4,4,4,4,4,4,4,4,4,5,5,5,5,5,5,5,5,5,5,5,6,6,6,6,6,6\n",
      "Foram informados 80 elementos.\n",
      "ROL: [2, 2, 2, 2, 2, 2, 2, 2, 2, 2, 2, 2, 2, 3, 3, 3, 3, 3, 3, 3, 3, 3, 3, 3, 3, 3, 3, 3, 3, 3, 3, 3, 3, 3, 3, 3, 3, 3, 3, 3, 3, 3, 4, 4, 4, 4, 4, 4, 4, 4, 4, 4, 4, 4, 4, 4, 4, 4, 4, 4, 4, 4, 4, 5, 5, 5, 5, 5, 5, 5, 5, 5, 5, 5, 6, 6, 6, 6, 6, 6]\n",
      "\n"
     ]
    }
   ],
   "source": [
    "# Informando os elementos e gerando o ROL\n",
    "e_txt = input(\"Informe os elementos: \")\n",
    "e = e_txt.split(\",\")\n",
    "elementos = list(map(int,e))\n",
    "\n",
    "elementos.sort() # em ordem crescente\n",
    "print(f\"Foram informados {len(elementos)} elementos.\")\n",
    "print(f\"ROL: {elementos}\")\n",
    "print()"
   ]
  },
  {
   "cell_type": "code",
   "execution_count": 12,
   "id": "f4c26c4a",
   "metadata": {},
   "outputs": [
    {
     "name": "stdout",
     "output_type": "stream",
     "text": [
      "Amplitude Total: 6 - 2 = 4\n",
      "\n"
     ]
    }
   ],
   "source": [
    "# Amplitude Total\n",
    "maior_valor = max(elementos) # retorna o maior valor da lista de elementos\n",
    "menor_valor = min(elementos) # retorna o menor valor da lista de elementos\n",
    "amplitude_total = maior_valor - menor_valor\n",
    "print(f\"Amplitude Total: {maior_valor} - {menor_valor} = {amplitude_total}\")\n",
    "print()\n"
   ]
  },
  {
   "cell_type": "code",
   "execution_count": 13,
   "id": "a1887ed3",
   "metadata": {},
   "outputs": [
    {
     "name": "stdout",
     "output_type": "stream",
     "text": [
      "A quantidade de classes é de: 7.3220649367872355 ~= 8\n",
      "\n"
     ]
    }
   ],
   "source": [
    "# Calculando o número de classes\n",
    "sturges = 1 + 3.322*math.log(len(elementos),10) # cálcula o número de classes através do método de Sturges\n",
    "qtd_classes = math.ceil(sturges)\n",
    "print(f\"A quantidade de classes é de: {sturges} ~= {qtd_classes}\")\n",
    "print()"
   ]
  },
  {
   "cell_type": "code",
   "execution_count": 14,
   "id": "fdc9cc31",
   "metadata": {},
   "outputs": [
    {
     "name": "stdout",
     "output_type": "stream",
     "text": [
      "A amplitude de cada classe é de: 4 / 8 = ceil(1)\n",
      "\n",
      "8\n"
     ]
    }
   ],
   "source": [
    "# Calculando a Amplitude de cada Classe\n",
    "\n",
    "classes = [] # lista vazia para preencher com o número de classes na tabela de frequência\n",
    "h = amplitude_total / qtd_classes\n",
    "h = math.ceil(h)\n",
    "print(f\"A amplitude de cada classe é de: {amplitude_total} / {qtd_classes} = ceil({h})\")\n",
    "\n",
    "\n",
    "for i in range(qtd_classes): \n",
    "    classes.append(i)\n",
    "print()\n",
    "print(len(classes))\n"
   ]
  },
  {
   "cell_type": "code",
   "execution_count": 15,
   "id": "6be975c4",
   "metadata": {},
   "outputs": [
    {
     "name": "stdout",
     "output_type": "stream",
     "text": [
      "Pontos Médios si: [2.5, 3.5, 4.5, 5.5, 6.5, 7.5, 8.5, 9.5]\n",
      "Intervalos: ['2 |— 3', '3 |— 4', '4 |— 5', '5 |— 6', '6 |— 7', '7 |— 8', '8 |— 9', '9 |— 10']\n",
      "\n",
      "8\n",
      "8\n"
     ]
    }
   ],
   "source": [
    "# Calculando os Intervalos  |—\n",
    "intervalos = []\n",
    "pontos_medios = []\n",
    "\n",
    "for i in range(qtd_classes):\n",
    "    esquerda_ = menor_valor\n",
    "    _direita = menor_valor + h\n",
    "    \n",
    "    # ------------------------------------------------------------------------- Calculando Pontos Médios\n",
    "    p = (esquerda_+_direita)/2\n",
    "    pontos_medios.append(p)\n",
    "    \n",
    "    inter = str(esquerda_) + \" |— \" + str(_direita)\n",
    "    \n",
    "    intervalos.append(inter)\n",
    "    menor_valor += h\n",
    "    \n",
    "print(f\"Pontos Médios si: {pontos_medios}\")\n",
    "print(f\"Intervalos: {intervalos}\")\n",
    "print()\n",
    "print(len(pontos_medios))\n",
    "print(len(intervalos))\n",
    "\n"
   ]
  },
  {
   "cell_type": "code",
   "execution_count": 23,
   "id": "50f121c7",
   "metadata": {},
   "outputs": [
    {
     "name": "stdout",
     "output_type": "stream",
     "text": [
      "Informe cada elemento único do ROL: 2,3,4,5,6\n",
      "8\n",
      "Frequencias: [13, 29, 21, 11, 6, 0, 0, 0]\n",
      "\n",
      "8\n"
     ]
    }
   ],
   "source": [
    "# Calculando frequencia fi\n",
    "# AINDA É NECESSÁRIO REALIZAR UMA CORREÇÃO\n",
    "frequencias = []\n",
    "\n",
    "txt = input(\"Informe cada elemento único do ROL: \")\n",
    "x = txt.split(\",\")\n",
    "e_rol = list(map(int,x))\n",
    "\n",
    "# Preenche o restante da lista para que ela tenha dimensões iguais a quantidade de classes\n",
    "while(len(e_rol) < qtd_classes):\n",
    "    e_rol.append(0)\n",
    "\n",
    "\n",
    "for i in range(qtd_classes):\n",
    "  frequencias.append(elementos.count(e_rol[i]))\n",
    "\n",
    "print(f\"Frequencias: {frequencias}\")\n",
    "print()\n",
    "print(len(frequencias))\n"
   ]
  },
  {
   "cell_type": "code",
   "execution_count": 24,
   "id": "7bd4947f",
   "metadata": {},
   "outputs": [
    {
     "name": "stdout",
     "output_type": "stream",
     "text": [
      "[16.25, 36.25, 26.25, 13.750000000000002, 7.5, 0.0, 0.0, 0.0]\n",
      "----------------------------------------\n",
      "8\n"
     ]
    }
   ],
   "source": [
    "# Calculando Porcentagens\n",
    "# AINDA É NECESSÁRIO REALIZAR UMA CORREÇÃO\n",
    "porcentagens = []\n",
    "\n",
    "for i in range(len(frequencias)):\n",
    "    porcentagens.append((frequencias[i]/len(elementos))*100)\n",
    "    \n",
    "print(porcentagens)\n",
    "print('-'*40)\n",
    "print(len(porcentagens))"
   ]
  },
  {
   "cell_type": "code",
   "execution_count": 25,
   "id": "57ff3ceb",
   "metadata": {},
   "outputs": [
    {
     "name": "stdout",
     "output_type": "stream",
     "text": [
      "  intervalo  frequencia (fi)  ponto médio (si)  porcentagem\n",
      "0    2 |— 3               13               2.5        16.25\n",
      "1    3 |— 4               29               3.5        36.25\n",
      "2    4 |— 5               21               4.5        26.25\n",
      "3    5 |— 6               11               5.5        13.75\n",
      "4    6 |— 7                6               6.5         7.50\n",
      "5    7 |— 8                0               7.5         0.00\n",
      "6    8 |— 9                0               8.5         0.00\n",
      "7   9 |— 10                0               9.5         0.00\n",
      "----------------------------------------------------------------------\n",
      "TOTAL: \t\t\t  80\t\t\t      100.0\n"
     ]
    }
   ],
   "source": [
    "# Imprimindo a tabela de frequência\n",
    "tabela = {\n",
    "            \"intervalo\": intervalos,\n",
    "            \"frequencia (fi)\": frequencias,\n",
    "            \"ponto médio (si)\": pontos_medios,\n",
    "            #\"frequencia acumulada Fi\", frequencias_acumuladas,\n",
    "            \"porcentagem\": porcentagens\n",
    "}\n",
    "\n",
    "tabela_df = pd.DataFrame(tabela)\n",
    "print(tabela_df)\n",
    "print(\"-\"*70)\n",
    "print(f\"TOTAL: \\t\\t\\t  {sum(frequencias)}\\t\\t\\t      {sum(porcentagens)}\")"
   ]
  },
  {
   "cell_type": "code",
   "execution_count": null,
   "id": "b7f44225",
   "metadata": {},
   "outputs": [],
   "source": []
  }
 ],
 "metadata": {
  "kernelspec": {
   "display_name": "Python 3 (ipykernel)",
   "language": "python",
   "name": "python3"
  },
  "language_info": {
   "codemirror_mode": {
    "name": "ipython",
    "version": 3
   },
   "file_extension": ".py",
   "mimetype": "text/x-python",
   "name": "python",
   "nbconvert_exporter": "python",
   "pygments_lexer": "ipython3",
   "version": "3.9.7"
  }
 },
 "nbformat": 4,
 "nbformat_minor": 5
}
